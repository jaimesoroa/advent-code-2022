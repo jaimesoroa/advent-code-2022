{
 "cells": [
  {
   "cell_type": "code",
   "execution_count": 1,
   "metadata": {},
   "outputs": [],
   "source": [
    "import numpy as np\n",
    "import pandas as pd\n"
   ]
  },
  {
   "cell_type": "code",
   "execution_count": 297,
   "metadata": {},
   "outputs": [],
   "source": [
    "# Hacker Rank print_rangoli challenge\n",
    "def print_rangoli(size):\n",
    "    import string\n",
    "    # Number of rows and columns depending of size\n",
    "    rows = 2 * size - 1\n",
    "    cols = 2 * rows - 1\n",
    "    # Get alphabet\n",
    "    alph = string.ascii_lowercase\n",
    "    # Initialize strings of letters with '-'\n",
    "    alph_ord = ''\n",
    "    alph_inv = ''\n",
    "    # Create the strings\n",
    "    for i in range(len(alph)-1):\n",
    "        alph_ord += alph[i]+'-'\n",
    "        alph_inv += alph[-i-1]+'-'\n",
    "    # Create the long string (from z to a to z) that will be the basis to all other shorter strings\n",
    "    long_alph = alph_inv + alph_ord + 'z'\n",
    "    # Create the string according to size\n",
    "    long_string = long_alph[(50-(size*2)+2):(50+(size*2)-1)]\n",
    "    rangoli = ''\n",
    "    # Generate each row\n",
    "    for row in range(rows):\n",
    "        if row < size:\n",
    "            # Slize string to get only the parts needed, for the first half\n",
    "            string_1 = long_string[0:(row*2+1)]\n",
    "            string_2 = long_string[(cols-(row*2)):cols]\n",
    "            rangoli += (((size-1)*2 - (row * 2)) * \"-\")+string_1+string_2+(((size-1)*2 - (row * 2)) * \"-\")+'\\n'\n",
    "        else:\n",
    "            # Slize string to get only the parts needed, for the last half\n",
    "            string_1 = long_string[0:((rows-row-1)*2+1)]\n",
    "            string_2 = long_string[(cols-((rows-row-1)*2)):cols]\n",
    "            rangoli += (((size-1)*2 - (row * 2)) * (-1) * \"-\")+string_1+string_2+(((size-1)*2 - (row * 2)) * (-1) * \"-\")+'\\n'\n",
    "    print(rangoli)\n",
    "    return None\n",
    "            "
   ]
  },
  {
   "cell_type": "code",
   "execution_count": 299,
   "metadata": {},
   "outputs": [
    {
     "name": "stdout",
     "output_type": "stream",
     "text": [
      "--------------h--------------\n",
      "------------h-g-h------------\n",
      "----------h-g-f-g-h----------\n",
      "--------h-g-f-e-f-g-h--------\n",
      "------h-g-f-e-d-e-f-g-h------\n",
      "----h-g-f-e-d-c-d-e-f-g-h----\n",
      "--h-g-f-e-d-c-b-c-d-e-f-g-h--\n",
      "h-g-f-e-d-c-b-a-b-c-d-e-f-g-h\n",
      "--h-g-f-e-d-c-b-c-d-e-f-g-h--\n",
      "----h-g-f-e-d-c-d-e-f-g-h----\n",
      "------h-g-f-e-d-e-f-g-h------\n",
      "--------h-g-f-e-f-g-h--------\n",
      "----------h-g-f-g-h----------\n",
      "------------h-g-h------------\n",
      "--------------h--------------\n",
      "\n"
     ]
    }
   ],
   "source": [
    "print_rangoli(8)"
   ]
  },
  {
   "cell_type": "code",
   "execution_count": 306,
   "metadata": {},
   "outputs": [
    {
     "data": {
      "text/plain": [
       "72718"
      ]
     },
     "execution_count": 306,
     "metadata": {},
     "output_type": "execute_result"
    }
   ],
   "source": [
    "# Advent of code day 1_1\n",
    "# Open file\n",
    "with open('Inputs/Advent_1.txt') as f:\n",
    "    lines = f.readlines()\n",
    "# Remove the \\n at the end of each line\n",
    "lines_list = [lines[i].strip('\\n') for i in range(len(lines))]\n",
    "# Sum of each elf calories\n",
    "calories_list = [0]\n",
    "counter = 0\n",
    "for i in range(len(lines_list)):\n",
    "    if lines_list[i] == '':\n",
    "        counter +=1\n",
    "        calories_list.append(0)\n",
    "    else:\n",
    "        calories_list[counter] += int(lines_list[i])\n",
    "# Elf with max calories\n",
    "max(calories_list)"
   ]
  },
  {
   "cell_type": "code",
   "execution_count": 307,
   "metadata": {},
   "outputs": [
    {
     "data": {
      "text/plain": [
       "213089"
      ]
     },
     "execution_count": 307,
     "metadata": {},
     "output_type": "execute_result"
    }
   ],
   "source": [
    "# Advent of code day 1_2\n",
    "# Sum of 3 elves with most calories\n",
    "calories_list.sort(reverse = True)\n",
    "sum(calories_list[0:3])"
   ]
  },
  {
   "cell_type": "code",
   "execution_count": 387,
   "metadata": {},
   "outputs": [
    {
     "data": {
      "text/plain": [
       "14264"
      ]
     },
     "execution_count": 387,
     "metadata": {},
     "output_type": "execute_result"
    }
   ],
   "source": [
    "# Advent of code day 2_1\n",
    "# Score of Rock, paper scissor\n",
    "rps_df = pd.read_csv('Inputs/Advent_2_1.csv')\n",
    "score_dict_1 = {'X': 1, 'Y': 2, 'Z': 3}\n",
    "score_dict_2 = {'A X': 3, 'A Y': 6, 'A Z': 0, 'B X': 0, 'B Y': 3, 'B Z': 6, 'C X': 6, 'C Y': 0, 'C Z': 3}\n",
    "# The first round is the index of the dataframe ('C Z'), so score starts at 3 + 3 = 6\n",
    "score = 6\n",
    "for i in range(len(rps_df['C Z'])):\n",
    "    score += score_dict_1[rps_df['C Z'][i][2]]\n",
    "    score += score_dict_2[rps_df['C Z'][i]]\n",
    "score"
   ]
  },
  {
   "cell_type": "code",
   "execution_count": 388,
   "metadata": {},
   "outputs": [
    {
     "data": {
      "text/plain": [
       "12382"
      ]
     },
     "execution_count": 388,
     "metadata": {},
     "output_type": "execute_result"
    }
   ],
   "source": [
    "# Advent of code day 2_1\n",
    "# Score of Rock, paper scissor\n",
    "score_dict_play = {'A': 1, 'B': 2, 'C': 3}\n",
    "score_dict_win = {'A': 'B', 'B': 'C', 'C': 'A'}\n",
    "score_dict_lose = {'A': 'C', 'B': 'A', 'C': 'B'}\n",
    "# The first round is the index of the dataframe ('C Z'), so score starts at 1 + 6 = 7\n",
    "score_2 = 7\n",
    "for i in range(len(rps_df['C Z'])):\n",
    "    if rps_df['C Z'][i][2] == 'X':\n",
    "        play = score_dict_lose[rps_df['C Z'][i][0]]\n",
    "        score_2 += (score_dict_play[play])\n",
    "    elif rps_df['C Z'][i][2] == 'Z':\n",
    "        play = score_dict_win[rps_df['C Z'][i][0]]\n",
    "        score_2 += (score_dict_play[play] + 6)\n",
    "    else:\n",
    "        play = rps_df['C Z'][i][0]\n",
    "        score_2 += (score_dict_play[play] + 3)\n",
    "score_2"
   ]
  },
  {
   "cell_type": "code",
   "execution_count": 432,
   "metadata": {},
   "outputs": [
    {
     "data": {
      "text/plain": [
       "8493"
      ]
     },
     "execution_count": 432,
     "metadata": {},
     "output_type": "execute_result"
    }
   ],
   "source": [
    "# Advent of code day 3\n",
    "# Rucksacks\n",
    "import string\n",
    "with open('Inputs/Advent_3.txt') as f:\n",
    "    rucksacks = f.readlines()\n",
    "# Remove the \\n at the end of each line\n",
    "rucksacks_list = [rucksacks[i].strip('\\n') for i in range(len(rucksacks))]\n",
    "alph = list(string.ascii_lowercase) + list(string.ascii_uppercase)\n",
    "value = [i+1 for i in range(52)]\n",
    "priority_dict = {}\n",
    "for i in range(len(alph)):\n",
    "    priority_dict[alph[i]] = value[i]\n",
    "priority_sum = 0\n",
    "for sack in rucksacks_list:\n",
    "    s1 = sack[0:int(len(sack)/2)]\n",
    "    s2 = sack[int(len(sack)/2):int(len(sack))]\n",
    "    count = 0\n",
    "    for j in s1:\n",
    "        if j in s2 and count == 0:\n",
    "            priority_sum += priority_dict[j]\n",
    "            count += 1\n",
    "priority_sum"
   ]
  },
  {
   "cell_type": "code",
   "execution_count": 433,
   "metadata": {},
   "outputs": [
    {
     "data": {
      "text/plain": [
       "2552"
      ]
     },
     "execution_count": 433,
     "metadata": {},
     "output_type": "execute_result"
    }
   ],
   "source": [
    "# Advent of code day 3_2\n",
    "# Badges\n",
    "badge_sum = 0\n",
    "for i in range(int(len(rucksacks_list)/3)):\n",
    "    s1 = rucksacks_list[int(3 * i)]\n",
    "    s2 = rucksacks_list[int(3 * i + 1)]\n",
    "    s3 = rucksacks_list[int(3 * i + 2)]\n",
    "    count = 0\n",
    "    for j in s1:\n",
    "        if j in s2 and j in s3 and count == 0:\n",
    "            badge_sum += priority_dict[j]\n",
    "            count += 1\n",
    "badge_sum"
   ]
  },
  {
   "cell_type": "code",
   "execution_count": 3,
   "metadata": {},
   "outputs": [
    {
     "data": {
      "text/plain": [
       "471"
      ]
     },
     "execution_count": 3,
     "metadata": {},
     "output_type": "execute_result"
    }
   ],
   "source": [
    "# Advent of code day 4\n",
    "# Camp Cleanup\n",
    "import string\n",
    "with open('Inputs/Advent_4.txt') as f:\n",
    "    assignments = f.readlines()\n",
    "# Remove the \\n at the end of each line\n",
    "assignments_list = [assignments[i].strip('\\n') for i in range(len(assignments))]\n",
    "count_assig = 0\n",
    "# Check which pairs totally overlap (one included inside the other).\n",
    "for pair in assignments_list:\n",
    "    pair_1 = pair.split(',')[0]\n",
    "    pair_1_1 = int(pair_1.split('-')[0])\n",
    "    pair_1_2 = int(pair_1.split('-')[1])\n",
    "    pair_2 = pair.split(',')[1]\n",
    "    pair_2_1 = int(pair_2.split('-')[0])\n",
    "    pair_2_2 = int(pair_2.split('-')[1])\n",
    "    if pair_1_1 <= pair_2_1 and pair_1_2 >= pair_2_2:\n",
    "        count_assig += 1\n",
    "    elif pair_1_1 >= pair_2_1 and pair_1_2 <= pair_2_2:\n",
    "        count_assig += 1\n",
    "count_assig"
   ]
  },
  {
   "cell_type": "code",
   "execution_count": 4,
   "metadata": {},
   "outputs": [
    {
     "data": {
      "text/plain": [
       "888"
      ]
     },
     "execution_count": 4,
     "metadata": {},
     "output_type": "execute_result"
    }
   ],
   "source": [
    "# Advent of code day 4_2\n",
    "count_assig_2 = 0\n",
    "# Check which pairs overlap (at least one common element).\n",
    "for pair in assignments_list:\n",
    "    pair_1 = pair.split(',')[0]\n",
    "    pair_1_1 = int(pair_1.split('-')[0])\n",
    "    pair_1_2 = int(pair_1.split('-')[1])\n",
    "    pair_2 = pair.split(',')[1]\n",
    "    pair_2_1 = int(pair_2.split('-')[0])\n",
    "    pair_2_2 = int(pair_2.split('-')[1])\n",
    "    if pair_1_1 <= pair_2_1 and pair_1_2 >= pair_2_2:\n",
    "        count_assig_2 += 1\n",
    "    elif pair_1_1 >= pair_2_1 and pair_1_2 <= pair_2_2:\n",
    "        count_assig_2 += 1\n",
    "    elif pair_1_1 <= pair_2_1 and pair_1_2 >= pair_2_1:\n",
    "        count_assig_2 += 1\n",
    "    elif pair_1_1 >= pair_2_1 and pair_1_1 <= pair_2_2:\n",
    "        count_assig_2 += 1\n",
    "count_assig_2"
   ]
  },
  {
   "cell_type": "code",
   "execution_count": 189,
   "metadata": {},
   "outputs": [],
   "source": [
    "# Advent of code day 4_2\n",
    "# Supply Stacks\n",
    "with open('Inputs/Advent_5.txt') as f:\n",
    "    stacks_file = f.readlines()\n",
    "stacks = stacks_file[0:8]\n",
    "stack_list = [[], [], [], [], [], [], [], [], []]\n",
    "for i in range(1, 9):\n",
    "    for j in range(9):\n",
    "        if stacks[-1 * i][4 * j +1] != ' ':\n",
    "            stack_list[j].append(stacks[-1 * i][4 * j +1])\n",
    "order_file = stacks_file[10:512]\n",
    "order_list = []\n",
    "for i in range(len(order_file)):\n",
    "    order_list.append([])\n",
    "for i in range(len(order_file)):\n",
    "    if len(order_file[i]) == 19:\n",
    "        order_list[i].append(int(order_file[i][5]))\n",
    "        order_list[i].append(int(order_file[i][12]))\n",
    "        order_list[i].append(int(order_file[i][17]))\n",
    "    else:\n",
    "        order_list[i].append(int(order_file[i][5:7]))\n",
    "        order_list[i].append(int(order_file[i][13]))\n",
    "        order_list[i].append(int(order_file[i][18]))"
   ]
  },
  {
   "cell_type": "code",
   "execution_count": 185,
   "metadata": {},
   "outputs": [
    {
     "data": {
      "text/plain": [
       "[[]]"
      ]
     },
     "execution_count": 185,
     "metadata": {},
     "output_type": "execute_result"
    }
   ],
   "source": [
    "stack_list[7][-2:]"
   ]
  },
  {
   "cell_type": "code",
   "execution_count": 190,
   "metadata": {},
   "outputs": [],
   "source": [
    "for i in range(len(order_list)):\n",
    "    stack_list[order_list[i][2]-1].append(stack_list[order_list[i][1]-1][order_list[i][0] * -1:])\n",
    "    #stack_list[order_list[i][1]-1] = stack_list[order_list[i][1]-1][:order_list[i][0] * -1]"
   ]
  },
  {
   "cell_type": "code",
   "execution_count": null,
   "metadata": {},
   "outputs": [],
   "source": []
  }
 ],
 "metadata": {
  "kernelspec": {
   "display_name": "Python 3",
   "language": "python",
   "name": "python3"
  },
  "language_info": {
   "codemirror_mode": {
    "name": "ipython",
    "version": 3
   },
   "file_extension": ".py",
   "mimetype": "text/x-python",
   "name": "python",
   "nbconvert_exporter": "python",
   "pygments_lexer": "ipython3",
   "version": "3.10.6"
  },
  "orig_nbformat": 4,
  "vscode": {
   "interpreter": {
    "hash": "313f07d485c5fd7b1e18f965fb3f553250d67dee8c5475d0490b451a601fd224"
   }
  }
 },
 "nbformat": 4,
 "nbformat_minor": 2
}
